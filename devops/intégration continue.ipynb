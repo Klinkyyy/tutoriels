{
 "cells": [
  {
   "cell_type": "markdown",
   "id": "595f4634",
   "metadata": {
    "slideshow": {
     "slide_type": "slide"
    }
   },
   "source": [
    "# Intégration continue et premiers tests automatiques\n",
    "\n",
    "Rappel des étapes du processus de développement :\n",
    "1. Idéation et collecte de besoins\n",
    "1. Développement d'une première version du code\n",
    "1. Revue et déploiement"
   ]
  },
  {
   "cell_type": "markdown",
   "id": "a8ea7b78",
   "metadata": {
    "slideshow": {
     "slide_type": "subslide"
    }
   },
   "source": [
    "## Pourquoi optimiser la revue et le déploiement ?\n",
    "\n",
    "- C'est une des manières les plus rapides d'accélérer l'équipe\n",
    "- On a pas la main sur les processus amont (idéation et collecte de besoins) en tant que développeur\n",
    "- Le plus simple pour réduire le temps de développement est de travailler sur des petits lots"
   ]
  },
  {
   "cell_type": "markdown",
   "id": "bc9a7fcd",
   "metadata": {
    "slideshow": {
     "slide_type": "subslide"
    }
   },
   "source": [
    "## Pourquoi limiter le stock de code terminé mais non déployé ?\n",
    "\n",
    "- C'est du gâchis au sens du *Lean* qui fait perdre du temps\n",
    "- Cela représente ~10k€ d'investissements non rentabilisés par semaine de délai (7 devs @ 50k€ bruts)\n",
    "- Il y a un risque que le code ne fonctionne pas avec d'autres parties du code ou qu'il ne réponde pas au besoin"
   ]
  },
  {
   "cell_type": "markdown",
   "id": "2687a7c0",
   "metadata": {
    "slideshow": {
     "slide_type": "slide"
    }
   },
   "source": [
    "## Comment réduire le délai de revue et de déploiement ?\n",
    "\n",
    "Le délai de revue et déploiement se sépare en deux parties :\n",
    "1. La revue : du commit à la branche principale\n",
    "1. Le déploiement : de la branche principale au code déployé et utilisé\n",
    "\n",
    "__Objectif__ : réduire le délai en réduisant les risques de bugs."
   ]
  },
  {
   "cell_type": "markdown",
   "id": "1df65445",
   "metadata": {
    "slideshow": {
     "slide_type": "fragment"
    }
   },
   "source": [
    "__Solution__ : les boucles de rétroaction."
   ]
  },
  {
   "cell_type": "markdown",
   "id": "7728e5a8",
   "metadata": {},
   "source": []
  }
 ],
 "metadata": {
  "celltoolbar": "Slideshow",
  "kernelspec": {
   "display_name": "Python 3",
   "language": "python",
   "name": "python3"
  },
  "language_info": {
   "codemirror_mode": {
    "name": "ipython",
    "version": 3
   },
   "file_extension": ".py",
   "mimetype": "text/x-python",
   "name": "python",
   "nbconvert_exporter": "python",
   "pygments_lexer": "ipython3",
   "version": "3.9.7"
  },
  "toc": {
   "base_numbering": 1,
   "nav_menu": {},
   "number_sections": true,
   "sideBar": true,
   "skip_h1_title": false,
   "title_cell": "Table of Contents",
   "title_sidebar": "Contents",
   "toc_cell": false,
   "toc_position": {},
   "toc_section_display": true,
   "toc_window_display": false
  }
 },
 "nbformat": 4,
 "nbformat_minor": 5
}
