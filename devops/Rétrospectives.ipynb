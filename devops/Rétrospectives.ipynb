{
 "cells": [
  {
   "cell_type": "markdown",
   "id": "374e7055",
   "metadata": {
    "slideshow": {
     "slide_type": "slide"
    }
   },
   "source": [
    "# Rétrospectives et expérimentation"
   ]
  },
  {
   "cell_type": "markdown",
   "id": "029d03ba",
   "metadata": {
    "slideshow": {
     "slide_type": "fragment"
    }
   },
   "source": [
    "## Pourquoi ?\n",
    "\n",
    "Permettre l'amélioration rapide et continue de l'équipe."
   ]
  },
  {
   "cell_type": "markdown",
   "id": "d03e66dc",
   "metadata": {
    "slideshow": {
     "slide_type": "subslide"
    }
   },
   "source": [
    "## Comment ?\n",
    "\n",
    "- Organiser régulièrement des réunions avec toute l'équipe technique (la fréquence dépend des besoins de l'équipe)\n",
    "- Utiliser un template de rétrospective (par exemple sur metroretro.io)\n",
    "- Donner une dizaine de minutes à chacun pour remplir le template en silence\n",
    "- Révéler les cartes après dix minutes et en discuter en équipe pour décider d'actions à mener"
   ]
  },
  {
   "cell_type": "markdown",
   "id": "b2422bf5",
   "metadata": {
    "slideshow": {
     "slide_type": "subslide"
    }
   },
   "source": [
    "## La règle d'or des rétrospectives\n",
    "\n",
    "Avant de révéler les cartes, le modérateur de séance rappelle la règle d'or des rétrospectives : \n",
    "\n",
    "__Quoi que nous découvrons, nous supposons que chacun a fait de son mieux compte tenu de la situation, de ses compétences avec les informations et les moyens qu'il avait à sa disposition.__\n",
    "\n",
    "*Regardless of what we discover, we understand and truly believe that everyone did the best job they could, given what they knew at the time, their skills and abilities, the resources available, and the situation at hand*"
   ]
  },
  {
   "cell_type": "markdown",
   "id": "f3b5f5a2",
   "metadata": {
    "slideshow": {
     "slide_type": "subslide"
    }
   },
   "source": [
    "## Analyser les cartes pour décider des actions à mener\n",
    "\n",
    "- Le modérateur désigne les cartes une par une, leur auteur prend alors la parole\n",
    "- Les auteurs de cartes similaires peuvent également prendre la parole pour compléter, on regroupe alors les cartes\n",
    "- On essaye ensuite de remonter à la cause des symptômes inscrits dans les cartes (par exemple avec les 5 pourquois)\n",
    "- Une fois la cause identifiée, on identifie une action concrète pour la traiter, que l'on note"
   ]
  },
  {
   "cell_type": "markdown",
   "id": "41447a01",
   "metadata": {
    "slideshow": {
     "slide_type": "subslide"
    }
   },
   "source": [
    "## Suivre les actions décidées\n",
    "\n",
    "Pour s'assurer que les actions soient réalisées, on reprend à chaque rétrospective la liste des actions en cours.\n",
    "\n",
    "Il est rare qu'on soit sûr à 100% qu'une action va résoudre un problème, on se base donc sur des hypothèses :\n",
    "*Nous supposons qu'en prenant telle action nous résoudrons tel problème.*\n",
    "\n",
    "Si ce n'est pas le cas, on essaye autre chose. C'est l'expérimentation."
   ]
  },
  {
   "cell_type": "markdown",
   "id": "c15768e9",
   "metadata": {
    "slideshow": {
     "slide_type": "subslide"
    }
   },
   "source": [
    "## Points de vigilance\n",
    "\n",
    "- Ne pas inviter les managers non techniques ou les Product Owners (PO) dans les rétrospectives (toute équipe doit avoir un  leader technique - lead dev ou tech lead - hiérarchiquement supérieur au PO qui participe à la rétrospective)\n",
    "- Ne pas chercher de fautif en cas de problème, ne pas blâmer ses collègues, au risque de voir tout le monde taire le détail des problèmes.\n",
    "- Penser à inclure la notion de risques dans le template de rétro pour ne pas être aveugle aux risques.\n",
    "- Éviter les templates de rétro qui poussent à démarrer de nouvelles choses (ex: keep, drop, start) ils ont tendance à créer une surcharge de processus, tâches etc.\n",
    "- Limiter au maximum le nombre d'actions convenues"
   ]
  },
  {
   "cell_type": "markdown",
   "id": "56e6df7c",
   "metadata": {
    "slideshow": {
     "slide_type": "subslide"
    }
   },
   "source": [
    "__Références__\n",
    "\n",
    "- https://www.etsy.com/codeascraft/blameless-postmortems/\n",
    "- https://www.devops-research.com/research.html"
   ]
  }
 ],
 "metadata": {
  "celltoolbar": "Diaporama",
  "kernelspec": {
   "display_name": "Python 3",
   "language": "python",
   "name": "python3"
  },
  "language_info": {
   "codemirror_mode": {
    "name": "ipython",
    "version": 3
   },
   "file_extension": ".py",
   "mimetype": "text/x-python",
   "name": "python",
   "nbconvert_exporter": "python",
   "pygments_lexer": "ipython3",
   "version": "3.9.7"
  },
  "toc": {
   "base_numbering": 1,
   "nav_menu": {},
   "number_sections": true,
   "sideBar": true,
   "skip_h1_title": false,
   "title_cell": "Table of Contents",
   "title_sidebar": "Contents",
   "toc_cell": false,
   "toc_position": {},
   "toc_section_display": true,
   "toc_window_display": false
  }
 },
 "nbformat": 4,
 "nbformat_minor": 5
}
