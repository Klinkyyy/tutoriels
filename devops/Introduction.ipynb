{
 "cells": [
  {
   "cell_type": "markdown",
   "id": "7494a2be",
   "metadata": {
    "slideshow": {
     "slide_type": "slide"
    }
   },
   "source": [
    "# Introduction au DevOps"
   ]
  },
  {
   "cell_type": "markdown",
   "id": "f6a4c69c",
   "metadata": {
    "slideshow": {
     "slide_type": "subslide"
    }
   },
   "source": [
    "## Objectifs\n",
    "\n",
    "Atteindre l'excellence dans l'art de la création et de la livraison de logiciels.\n",
    "- Développer et déployer plus vite\n",
    "- Réduire le nombre de bugs\n",
    "- Améliorer la stabilité en production"
   ]
  },
  {
   "cell_type": "markdown",
   "id": "307dab4a",
   "metadata": {
    "slideshow": {
     "slide_type": "subslide"
    }
   },
   "source": [
    "## Résultats\n",
    "\n",
    "Plus de 7 années de recherche sur le mouvement DevOps auprès de plus de 32 000 professionnels mettent en évidence des résultats époustouflants :\n",
    "\n",
    "Les meilleures équipes déploient 973 fois plus fréquemment et livrent 6 750 fois plus vite que les équipes peu performantes.\n",
    "\n",
    "Les meilleures équipes reprennent 6 570 fois plus vite après sinistre et ont des taux d'échec liés aux modifications 3 fois plus bas.\n"
   ]
  },
  {
   "cell_type": "markdown",
   "id": "894e800d",
   "metadata": {
    "slideshow": {
     "slide_type": "subslide"
    }
   },
   "source": [
    "## Autres avantages\n",
    "\n",
    "- Meilleure culture d'équipe et d'entreprise (apprentissage continu, sécurité psychologique, ...)\n",
    "- Plus d'autonomie et de confiance\n",
    "- Réduction du risque de burnout\n",
    "- Travail moins pénible et plus satisfaisant"
   ]
  },
  {
   "cell_type": "markdown",
   "id": "9930d966",
   "metadata": {
    "slideshow": {
     "slide_type": "subslide"
    }
   },
   "source": [
    "## A qui s'adressent ces vidéos ?\n",
    "\n",
    "- En premier lieu aux leaders techniques (Tech Leads, CTO, ...) écrivent ou ont écrit du code utilisé en production par le passé\n",
    "- Aux développeurs qui veulent contribuer à l'amélioration de leur équipe\n",
    "- Au management non technique (managers, fondateurs de start-up, membres de comité de direction) qui veulent améliorer l'efficacité des équipes techniques sous leur responsabilité.\n",
    "\n",
    "*Elles n'aborderont pas la partie technique des pratiques DevOps.*"
   ]
  },
  {
   "cell_type": "markdown",
   "id": "3373c2f8",
   "metadata": {
    "slideshow": {
     "slide_type": "subslide"
    }
   },
   "source": [
    "## La question à laquelle je souhaite répondre\n",
    "\n",
    "__Comment faire pour atteindre l'excellence dans l'art de la création et de la livraison de logiciels grâce aux méthodes DevOps ?__\n",
    "\n",
    "Prendre conscience de l'état actuel pour\n",
    " - suivre son avancement\n",
    " - mesurer l'impact des changements\n"
   ]
  },
  {
   "cell_type": "markdown",
   "id": "4923f173",
   "metadata": {
    "slideshow": {
     "slide_type": "subslide"
    }
   },
   "source": [
    "### Indicateurs DevOps\n",
    "\n",
    "1. Deployment frequency (Fréquence de déploiement)\n",
    "2. Lead time for changes (Délai de déploiement : du commit jusqu'au déploiement)\n",
    "3. Time to restore service (Délai de restauration de service, incluant la correction de bugs)\n",
    "4. Change failure rate (Taux d'échec des changements)\n",
    "5. Reliability (Fiabilité, incluant disponibilité, latence, performance et extensibilité)\n"
   ]
  },
  {
   "cell_type": "markdown",
   "id": "fdc3608a",
   "metadata": {
    "slideshow": {
     "slide_type": "fragment"
    }
   },
   "source": [
    "### Mauvais indicateurs (quantité produite et non résultats)\n",
    "- nombre de lignes de code déployées\n",
    "- nombre de features livrées"
   ]
  },
  {
   "cell_type": "markdown",
   "id": "fb8c86d8",
   "metadata": {
    "slideshow": {
     "slide_type": "subslide"
    }
   },
   "source": [
    "## Mettre en oeuvre petit à petit les pratiques DevOps\n",
    "\n",
    "1. Rétrospectives et expérimentation\n",
    "1. Travailler par petits lots et limiter le travail en cours\n",
    "1. Développer sur une branche unique (avec des branches de travail éphémères)\n",
    "1. Visibilité du travail au sein de l'équipe (et de l'entreprise)\n",
    "1. Intégration continue et premiers tests automatiques\n",
    "1. Automatisation des déploiements\n",
    "1. Simplifier le processus de validation des déploiements\n",
    "1. Gestion des changements de base de données"
   ]
  },
  {
   "cell_type": "markdown",
   "id": "1e603760",
   "metadata": {
    "slideshow": {
     "slide_type": "subslide"
    }
   },
   "source": [
    "9. Documentation\n",
    "1. Découplage d'architecture\n",
    "1. Test en continu\n",
    "1. Intégration de la sécurité dans le développement\n",
    "1. Prise en compte du feedback des clients\n",
    "1. Surveillance et observabilité en production\n",
    "1. Gestion des risques et priorisation, good enough"
   ]
  },
  {
   "cell_type": "markdown",
   "id": "e607493e",
   "metadata": {
    "slideshow": {
     "slide_type": "fragment"
    }
   },
   "source": [
    "*L'ordre peut changer en fonction du contexte de chaque organisation, c'est pour cela que les 5 indicateurs ainsi que les rétrospectives sont les premières choses à mettre en œuvre.*"
   ]
  },
  {
   "cell_type": "markdown",
   "id": "4379e771",
   "metadata": {
    "slideshow": {
     "slide_type": "subslide"
    }
   },
   "source": [
    "## Références\n",
    "\n",
    "https://www.devops-research.com/research.html"
   ]
  }
 ],
 "metadata": {
  "celltoolbar": "Diaporama",
  "kernelspec": {
   "display_name": "Python 3",
   "language": "python",
   "name": "python3"
  },
  "language_info": {
   "codemirror_mode": {
    "name": "ipython",
    "version": 3
   },
   "file_extension": ".py",
   "mimetype": "text/x-python",
   "name": "python",
   "nbconvert_exporter": "python",
   "pygments_lexer": "ipython3",
   "version": "3.9.7"
  },
  "toc": {
   "base_numbering": 1,
   "nav_menu": {},
   "number_sections": true,
   "sideBar": true,
   "skip_h1_title": false,
   "title_cell": "Table of Contents",
   "title_sidebar": "Contents",
   "toc_cell": false,
   "toc_position": {},
   "toc_section_display": true,
   "toc_window_display": false
  }
 },
 "nbformat": 4,
 "nbformat_minor": 5
}
